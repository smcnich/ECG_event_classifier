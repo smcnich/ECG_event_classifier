{
 "cells": [
  {
   "cell_type": "code",
   "execution_count": null,
   "metadata": {},
   "outputs": [],
   "source": [
    "num_samples = 1000\n",
    "num_channels = 8\n",
    "samp_freq = 300\n",
    "seq_len = 2200\n",
    "label_names = ['1dAVb', 'RBBB', 'LBBB', 'SB', 'AF', 'ST']"
   ]
  },
  {
   "cell_type": "code",
   "execution_count": null,
   "metadata": {},
   "outputs": [],
   "source": [
    "import pickle as pkl\n",
    "\n",
    "with open(\"/data/train.pkl\", 'rb') as file:\n",
    "    train = pkl.load(file)\n",
    "\n",
    "with open(\"/data/dev.pkl\", 'rb') as file:\n",
    "    dev = pkl.load(file)\n",
    "\n",
    "train.normalize()\n",
    "dev.normalize()"
   ]
  },
  {
   "cell_type": "code",
   "execution_count": null,
   "metadata": {},
   "outputs": [],
   "source": [
    "from tensorflow.keras import models, layers\n",
    "\n",
    "inputs = (seq_len, num_channels)\n",
    "num_labels = len(label_names)\n",
    "\n",
    "model = models.Sequential([\n",
    "    layers.Input(inputs),\n",
    "    layers.Conv1D(filters=filter, kernel_size=2, activation='relu'),\n",
    "    layers.MaxPooling1D(2),\n",
    "    layers.Conv1D(filters=2*filter, kernel_size=2, activation='relu'),\n",
    "    layers.MaxPooling1D(2),\n",
    "    layers.Conv1D(filters=2*(2*filter), kernel_size=2, activation='relu'),\n",
    "    layers.MaxPooling1D(2),\n",
    "    layers.Flatten(),\n",
    "    layers.Dropout(0.5),\n",
    "    layers.Dense(2*(2*filter), activation='relu'),\n",
    "    # Sigmoid for multi-label classification\n",
    "    layers.Dense(num_labels, activation='sigmoid')\n",
    "])\n",
    "\n",
    "model.compile(loss='binary_crossentropy', \n",
    "                    optimizer='adam', \n",
    "                    metrics=['accuracy'])"
   ]
  },
  {
   "cell_type": "code",
   "execution_count": null,
   "metadata": {},
   "outputs": [],
   "source": [
    "model.fit(train.X, train.y, epochs=10, batch_size=16, validation_data=(dev.X, dev.y))\n",
    "\n",
    "_, acc = model.evaluate(dev)\n",
    "print(f\"Model accuracy: {acc*100:.2f}%\")"
   ]
  }
 ],
 "metadata": {
  "language_info": {
   "name": "python"
  }
 },
 "nbformat": 4,
 "nbformat_minor": 2
}
